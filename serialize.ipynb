{
  "nbformat": 4,
  "nbformat_minor": 0,
  "metadata": {
    "colab": {
      "provenance": [],
      "mount_file_id": "1HIh-ccv3ADtViRq2ZudMAC1S6T1XgPDc",
      "authorship_tag": "ABX9TyMD7RGTluSkg+IDMoEctjKu",
      "include_colab_link": true
    },
    "kernelspec": {
      "name": "python3",
      "display_name": "Python 3"
    },
    "language_info": {
      "name": "python"
    }
  },
  "cells": [
    {
      "cell_type": "markdown",
      "metadata": {
        "id": "view-in-github",
        "colab_type": "text"
      },
      "source": [
        "<a href=\"https://colab.research.google.com/github/Aditya-2204/AI-Discovery-of-Unknown-Multi-Disease-Phenotypes-in-Longitudinal-Electronic-Health-Records/blob/master/serialize.ipynb\" target=\"_parent\"><img src=\"https://colab.research.google.com/assets/colab-badge.svg\" alt=\"Open In Colab\"/></a>"
      ]
    },
    {
      "cell_type": "code",
      "source": [
        "import pandas as pd\n",
        "import numpy as np\n",
        "import os"
      ],
      "metadata": {
        "id": "Q2MTvaUBEyQM"
      },
      "execution_count": 59,
      "outputs": []
    },
    {
      "cell_type": "code",
      "source": [
        "URL = '/content/drive/MyDrive/AI-Discovery-of-Unknown-Multi-Disease-Phenotypes-in-Longitudinal-Electronic-Health-Records/physionet.org/files/mimic-iv-demo/2.2/'"
      ],
      "metadata": {
        "id": "i0CWMqA5mDjZ"
      },
      "execution_count": 10,
      "outputs": []
    },
    {
      "cell_type": "code",
      "source": [
        "csvs_icu = {}\n",
        "\n",
        "for file in os.listdir(URL+'icu'):\n",
        "  if not file.endswith(\".html\"):\n",
        "    csvs_icu[os.path.splitext(os.path.splitext(file)[0])[0]]=pd.read_csv(URL+'icu/'+file)\n",
        "\n",
        "\n",
        "csvs_hosp = {}\n",
        "\n",
        "for file in os.listdir(URL+'hosp'):\n",
        "  if not file.endswith(\".html\"):\n",
        "    csvs_icu[os.path.splitext(os.path.splitext(file)[0])[0]]=pd.read_csv(URL+'hosp/'+file)"
      ],
      "metadata": {
        "colab": {
          "base_uri": "https://localhost:8080/"
        },
        "id": "Wi-faJ4_mLxW",
        "outputId": "fa0f9689-3240-4a3b-ccc1-32e39e7e577a"
      },
      "execution_count": 72,
      "outputs": [
        {
          "output_type": "stream",
          "name": "stderr",
          "text": [
            "<ipython-input-72-ad89d07bc081>:12: DtypeWarning: Columns (4,6,7,8,9,10,11,12,13,15,16,17,18,21,23,24,25,26,27,28,29,30,31,32) have mixed types. Specify dtype option on import or set low_memory=False.\n",
            "  csvs_icu[os.path.splitext(os.path.splitext(file)[0])[0]]=pd.read_csv(URL+'hosp/'+file)\n"
          ]
        }
      ]
    },
    {
      "cell_type": "code",
      "source": [
        "import pickle\n",
        "\n",
        "# Correct way to write (serialize) the dictionaries using pickle\n",
        "with open('csvs_icu.pkl', \"wb\") as f:  # Use \"wb\" for write binary\n",
        "  pickle.dump(csvs_icu, f)\n",
        "print(\"csvs_icu dictionary successfully pickled to 'csvs_icu.pkl'\")\n",
        "\n",
        "with open('csvs_hosp.pkl', \"wb\") as f:  # Use \"wb\" for write binary\n",
        "  pickle.dump(csvs_hosp, f)\n",
        "print(\"csvs_hosp dictionary successfully pickled to 'csvs_hosp.pkl'\")"
      ],
      "metadata": {
        "colab": {
          "base_uri": "https://localhost:8080/"
        },
        "id": "fLrfEjMLt4m3",
        "outputId": "e99d82d9-524e-44e8-dd21-5f6dd95fcc34"
      },
      "execution_count": 75,
      "outputs": [
        {
          "output_type": "stream",
          "name": "stdout",
          "text": [
            "csvs_icu dictionary successfully pickled to 'csvs_icu.pkl'\n",
            "csvs_hosp dictionary successfully pickled to 'csvs_hosp.pkl'\n"
          ]
        }
      ]
    }
  ]
}